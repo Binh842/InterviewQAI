{
 "cells": [
  {
   "cell_type": "markdown",
   "metadata": {},
   "source": [
    "# Formula\n",
    "## L=max(d(a, p) - d(a, n) + m, 0)\n",
    "\n",
    "a: Anchor - Ảnh gốc (đã embedding) \\\n",
    "p: Positive - Ảnh cùng class với Anchor(đã embedding) \\\n",
    "n: Negative - Ảnh khác class với Anchor (đã embedding) \\\n",
    "d(a, p) - Khoảng cách từ a tới p \\\n",
    "d(a, n) - Khoảng cách từ a tới n \\\n",
    "m: margin - Khoảng cách tối thiếu giữa d(a,p) và d(a,n) \n",
    "\n",
    "Mục tiêu: Tối thiểu hóa khoảng cách giữa 2 ảnh khi chúng là negative và tối đa hóa khoảng cách khi chúng là positive\n"
   ]
  },
  {
   "cell_type": "code",
   "execution_count": 41,
   "metadata": {},
   "outputs": [
    {
     "name": "stdout",
     "output_type": "stream",
     "text": [
      "Triplet Loss: 0.745729978511331\n"
     ]
    }
   ],
   "source": [
    "import numpy as np\n",
    "\n",
    "# np.random.seed(1)\n",
    "\n",
    "def triplet_loss(anchor, positive, negative, margin=1.0):\n",
    "    d_ap = np.linalg.norm(anchor - positive)\n",
    "    d_an = np.linalg.norm(anchor - negative)\n",
    "    loss = np.maximum(0, d_ap - d_an + margin)\n",
    "    \n",
    "    return loss\n",
    "\n",
    "anchor = np.random.random((128,1))\n",
    "positive = np.random.random((128,1))\n",
    "negative = np.random.random((128,1))\n",
    "\n",
    "loss = triplet_loss(anchor, positive, negative, margin=0.9)\n",
    "print(\"Triplet Loss:\", loss)\n"
   ]
  },
  {
   "cell_type": "markdown",
   "metadata": {},
   "source": [
    "# Formula\n",
    "### 2 mẫu thật và 5 mẫu giả\n",
    "\n",
    "$$\n",
    "\\sum_{i=1}^2 \\sum_{j=1}^5 \\left(MAX ( ||a,p_{i}||^2_{2} - ||(a,n_{j}||^2_{2} + m), 0 \\right)\n",
    "$$\n",
    "\n",
    "i, j: Thứ tự lần lượt của 2 mẫu thật và 5 mẫu giả \\\n",
    "a: Anchor\\\n",
    "p(i), n(i): Lần lượt là Postitive và Negative theo thứ tự của 2 mẫu thật và 5 mẫu giả\\\n",
    "m: Margin\n"
   ]
  },
  {
   "cell_type": "code",
   "execution_count": 91,
   "metadata": {},
   "outputs": [
    {
     "name": "stdout",
     "output_type": "stream",
     "text": [
      "Triplet loss: 12.576785779916618\n"
     ]
    }
   ],
   "source": [
    "import numpy as np\n",
    "\n",
    "def triplet_loss(anchor, positives, negatives, margin=1):\n",
    "\n",
    "    loss = 0\n",
    "    for positive in positives:\n",
    "        for negative in negatives:\n",
    "            pos_distances = np.linalg.norm(anchor - positive)\n",
    "            neg_distances = np.linalg.norm(anchor - negative)\n",
    "            loss += max(0, pos_distances - neg_distances + margin)\n",
    "    \n",
    "    return loss\n",
    "\n",
    "\n",
    "anchor = np.random.random(128)\n",
    "positives = np.random.random((2,128))\n",
    "negatives = np.random.random((5,128))\n",
    "margin = 0.9\n",
    "\n",
    "loss = triplet_loss(anchor, positives, negatives, margin)\n",
    "print(\"Triplet loss:\", loss)\n"
   ]
  }
 ],
 "metadata": {
  "kernelspec": {
   "display_name": "inter",
   "language": "python",
   "name": "python3"
  },
  "language_info": {
   "codemirror_mode": {
    "name": "ipython",
    "version": 3
   },
   "file_extension": ".py",
   "mimetype": "text/x-python",
   "name": "python",
   "nbconvert_exporter": "python",
   "pygments_lexer": "ipython3",
   "version": "3.10.14"
  }
 },
 "nbformat": 4,
 "nbformat_minor": 2
}
